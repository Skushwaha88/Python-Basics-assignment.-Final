{
 "cells": [
  {
   "cell_type": "markdown",
   "id": "88eb37d7-7424-4c5f-acd6-25ec0b6e4b3b",
   "metadata": {},
   "source": [
    "# Python Basics Assignment"
   ]
  },
  {
   "cell_type": "code",
   "execution_count": null,
   "id": "e0dbc295-0c2a-46dd-ba18-6abd75de7a54",
   "metadata": {},
   "outputs": [],
   "source": [
    "\"\"\"1. Explain the key features of Python that make it a popular choice for programming.\n",
    "Ans.->The first thing that makes Python so popular is its readability, which makes beginners learn it easily.On the other hand, because of its vast availability of libraries like \"Numpy\", \"Pandas\", etc. Makes a good ecosystem for users throughout the industry.\n",
    "\n",
    "-> The libraries also make it a versatile programming language in a way that the syntax runs in English. \n",
    "\n",
    "-> The community support is very good, which makes Python a continuosly developing language in the industry. This also enables scalability and flexibility.\n",
    "\n",
    "-> Moreover, it is open source and free.\"\"\""
   ]
  },
  {
   "cell_type": "code",
   "execution_count": null,
   "id": "1e95dca4-658d-46c8-b9e7-a6493739330e",
   "metadata": {},
   "outputs": [],
   "source": [
    "\"\"\"2. Describe the role of predefined keywords in Python and provide examples of how they are used in a \n",
    "program.\n",
    "Ans.-> In Python, the keywords are predefined words with a special meaning and have a specific purpose. The functions of a particular keyword are assigned specifically, which cannot be changed; this means a single keyword is made for a unique function to execute in the program.\n",
    "\n",
    "-> Also, these can be linkers or building blocks of code that help give commands to the computer or program.\n",
    "\n",
    "-> For example, \"Conditional statements\" like if, else, and elif. A use of these is provided in the cell below.\"\"\"\n",
    "\n"
   ]
  },
  {
   "cell_type": "code",
   "execution_count": 10,
   "id": "83b1647f-75e3-44cc-8d46-0adf04ef7d2f",
   "metadata": {},
   "outputs": [
    {
     "name": "stdout",
     "output_type": "stream",
     "text": [
      "You are eligible to vote.\n"
     ]
    }
   ],
   "source": [
    "###Use of if and else.\n",
    "\n",
    "age = 18\n",
    "if age >= 18:\n",
    "        print(\"You are eligible to vote.\")\n",
    "else:\n",
    "        print(\"You are not yet eligible to vote.\")"
   ]
  },
  {
   "cell_type": "code",
   "execution_count": null,
   "id": "7e168b7b-e9c1-469a-b3e9-ea73da7a70d3",
   "metadata": {},
   "outputs": [],
   "source": [
    "\"\"\"-> Loops kewords like \"for\" loop, \"while loop\". A use of these is provided in the cell below.\"\"\""
   ]
  },
  {
   "cell_type": "code",
   "execution_count": 16,
   "id": "0afbb6c6-660d-44aa-a58a-33cfcec5cfd6",
   "metadata": {},
   "outputs": [
    {
     "name": "stdout",
     "output_type": "stream",
     "text": [
      "0\n",
      "1\n",
      "2\n",
      "3\n",
      "4\n",
      "0\n",
      "1\n",
      "2\n"
     ]
    }
   ],
   "source": [
    "# for loop and while loop\n",
    "for i in range(5):\n",
    "        print(i)\n",
    "    # while loop\n",
    "count = 0\n",
    "while count < 3:\n",
    "        print(count)\n",
    "        count += 1"
   ]
  },
  {
   "cell_type": "code",
   "execution_count": null,
   "id": "4cb225cf-4f87-4024-840b-1b484de48906",
   "metadata": {},
   "outputs": [],
   "source": [
    "\"\"\"3. Compare and contrast mutable and immutable objects in Python with examples.\n",
    "Ans. In Python, mutable and immutable objects are two fundamental concepts that relate to whether or not the value of an object can be changed after it is created.\n",
    "\n",
    "Mutable Objects\n",
    "Definition: Objects whose values can be changed after creation.\n",
    "\n",
    "Examples:\n",
    "Lists\n",
    "\n",
    "Dictionaries\n",
    "\n",
    "Sets\n",
    "\n",
    "\n",
    "Example Code:\"\"\""
   ]
  },
  {
   "cell_type": "code",
   "execution_count": 18,
   "id": "eda5401d-1b3e-4e69-a1b0-2616b4bd7ae1",
   "metadata": {},
   "outputs": [
    {
     "name": "stdout",
     "output_type": "stream",
     "text": [
      "[100, 2, 3]\n"
     ]
    }
   ],
   "source": [
    "my_list = [1, 2, 3]\n",
    "my_list[0] = 100\n",
    "print(my_list) \n",
    "##The original list is modified in place without creating a new object."
   ]
  },
  {
   "cell_type": "code",
   "execution_count": null,
   "id": "7bebdb72-d78d-406b-956d-5b0b10c912ba",
   "metadata": {},
   "outputs": [],
   "source": [
    "\"\"\"->Immutable Objects\n",
    "Definition: Objects whose values cannot be changed after creation. Any change creates a new object.\n",
    "\n",
    "Examples:\n",
    "Integers\n",
    "\n",
    "Floats\n",
    "\n",
    "Strings\n",
    "\n",
    "Tuples\n",
    "\n",
    "\n",
    "Example Code:\"\"\""
   ]
  },
  {
   "cell_type": "code",
   "execution_count": 20,
   "id": "10e7ed9e-1665-4951-a224-65772685162a",
   "metadata": {},
   "outputs": [
    {
     "name": "stdout",
     "output_type": "stream",
     "text": [
      "world\n"
     ]
    }
   ],
   "source": [
    "my_str = \"hello\"\n",
    "my_str = \"world\"\n",
    "print(my_str)\n",
    "###Although it looks like my_str changed, it actually now refers to a new string object."
   ]
  },
  {
   "cell_type": "code",
   "execution_count": null,
   "id": "696c1108-e650-4077-bf6d-5a184bf53740",
   "metadata": {},
   "outputs": [],
   "source": [
    "\"\"\"4.Discuss the different types of operators in Python and provide examples of how they are used.\n",
    "Ans.-> In Python, operators are special symbols or keywords used to perform operations on variables and values. Here's a breakdown of the different types of operators in Python, along with examples: \"Arithmatic Operators\" used for methamatical operation, \"assignment operators\" used to assign values and variables, \"Comparison operators\" used to compare values.\"\"\""
   ]
  },
  {
   "cell_type": "code",
   "execution_count": 21,
   "id": "9c30c997-90ea-47ad-8724-a13de3fc0593",
   "metadata": {},
   "outputs": [
    {
     "data": {
      "text/plain": [
       "2"
      ]
     },
     "execution_count": 21,
     "metadata": {},
     "output_type": "execute_result"
    }
   ],
   "source": [
    "##Arithmetic operator\n",
    "1+1"
   ]
  },
  {
   "cell_type": "code",
   "execution_count": 23,
   "id": "5bf198ac-c3c9-4d2d-a6de-c4a317d12039",
   "metadata": {},
   "outputs": [
    {
     "data": {
      "text/plain": [
       "5"
      ]
     },
     "execution_count": 23,
     "metadata": {},
     "output_type": "execute_result"
    }
   ],
   "source": [
    "##assignment operator\n",
    "x=5\n",
    "x"
   ]
  },
  {
   "cell_type": "code",
   "execution_count": 24,
   "id": "af2ea81a-5aa2-4f89-a9d0-fc6dd13a4ce9",
   "metadata": {},
   "outputs": [
    {
     "data": {
      "text/plain": [
       "True"
      ]
     },
     "execution_count": 24,
     "metadata": {},
     "output_type": "execute_result"
    }
   ],
   "source": [
    "#comparison operator\n",
    "3==3"
   ]
  },
  {
   "cell_type": "code",
   "execution_count": null,
   "id": "7fb3f57d-f321-4552-88ca-362e30a2cfa5",
   "metadata": {},
   "outputs": [],
   "source": [
    "\"\"\"5.Explain the concept of type casting in Python with examples.\n",
    "Ans.Typecasting in Python refers to the process of converting one data type into another. Python supports both implicit and explicit typecasting.\n",
    "\n",
    "1. Implicit Typecasting\n",
    "Python automatically converts one data type to another without user intervention.\"\"\"\n",
    "\n"
   ]
  },
  {
   "cell_type": "code",
   "execution_count": 25,
   "id": "5a0fd548-fe8d-451f-bf39-4868dca0bc19",
   "metadata": {},
   "outputs": [
    {
     "name": "stdout",
     "output_type": "stream",
     "text": [
      "7.0\n",
      "<class 'float'>\n"
     ]
    }
   ],
   "source": [
    "\"\"\"a = 5       # Integer\n",
    "b = 2.0     # Float\n",
    "\n",
    "result = a + b  # Python automatically converts a to float\n",
    "print(result)   \n",
    "print(type(result))  \"\"\""
   ]
  },
  {
   "cell_type": "code",
   "execution_count": null,
   "id": "957c4b5f-5851-434b-99c4-e36e8bf8a53b",
   "metadata": {},
   "outputs": [],
   "source": [
    "\"\"\"2. Explicit Typecasting\n",
    "The programmer manually converts the data type using Python functions like:\n",
    "\n",
    "int()\n",
    "\n",
    "float()\n",
    "\n",
    "str()\n",
    "\n",
    "list(), tuple(), etc.\n",
    "\n",
    "Examples:\n",
    "\n",
    "Integer to Float:\"\"\""
   ]
  },
  {
   "cell_type": "code",
   "execution_count": 26,
   "id": "3ba79a83-0c15-40d7-801b-b9858cf86e9b",
   "metadata": {},
   "outputs": [
    {
     "name": "stdout",
     "output_type": "stream",
     "text": [
      "10.0\n",
      "<class 'float'>\n"
     ]
    }
   ],
   "source": [
    "a = 10\n",
    "b = float(a)\n",
    "print(b)         \n",
    "print(type(b))     "
   ]
  },
  {
   "cell_type": "code",
   "execution_count": null,
   "id": "953c26d4-ec53-44b0-9263-fac8ca00051a",
   "metadata": {},
   "outputs": [],
   "source": [
    "\"\"\"6.How do conditional statements work in Python? Illustrate with examples.\n",
    "Ans->In Python, conditional statements allow you to make decisions in your code by executing certain blocks based on whether a condition is True or False.\n",
    "\n",
    "Types of Conditional Statements:\n",
    "if statement\n",
    "\n",
    "if-else statement\n",
    "\n",
    "if-elif-else ladder\"\"\""
   ]
  },
  {
   "cell_type": "code",
   "execution_count": 27,
   "id": "a070c4de-bb14-4986-a937-18de8375fa17",
   "metadata": {},
   "outputs": [
    {
     "name": "stdout",
     "output_type": "stream",
     "text": [
      "You are an adult.\n"
     ]
    }
   ],
   "source": [
    "age = 20\n",
    "\n",
    "if age < 18:\n",
    "    print(\"You are a minor.\")\n",
    "elif age == 18:\n",
    "    print(\"You just became an adult!\")\n",
    "else:\n",
    "    print(\"You are an adult.\")\n"
   ]
  },
  {
   "cell_type": "code",
   "execution_count": null,
   "id": "74806e3d-c61c-494c-bcff-b2f1c654a474",
   "metadata": {},
   "outputs": [],
   "source": [
    "\"\"\"Explanation:\n",
    "Python checks the condition in the if first.\n",
    "\n",
    "If it's False, it checks the elif.\n",
    "\n",
    "If all conditions are False, the else block runs.\n",
    "\n",
    "Indentation is very important in Python (use 4 spaces or a tab for blocks).\"\"\""
   ]
  },
  {
   "cell_type": "code",
   "execution_count": null,
   "id": "bf45f178-148e-4fc0-a25a-4e0716e8ca76",
   "metadata": {},
   "outputs": [],
   "source": [
    "\"\"\"7.Describe the different types of loops in Python and their use cases with examples.\n",
    "Ans->In Python, loops are used to execute a block of code repeatedly. There are mainly two types of loops:\n",
    "\n",
    "1. for Loop\n",
    "Used to iterate over a sequence (like a list, string, tuple, or range).\n",
    "\n",
    "Example 1: Using a list\"\"\"\n"
   ]
  },
  {
   "cell_type": "code",
   "execution_count": 28,
   "id": "223fc801-39d3-469e-aac9-fbe9b5684d76",
   "metadata": {},
   "outputs": [
    {
     "name": "stdout",
     "output_type": "stream",
     "text": [
      "apple\n",
      "banana\n",
      "cherry\n"
     ]
    }
   ],
   "source": [
    "fruits = [\"apple\", \"banana\", \"cherry\"]\n",
    "for fruit in fruits:\n",
    "    print(fruit)"
   ]
  },
  {
   "cell_type": "code",
   "execution_count": null,
   "id": "0cf4fbd0-3e26-4f15-b91d-fe54d158c8d2",
   "metadata": {},
   "outputs": [],
   "source": [
    "2. while Loop\n",
    "Repeats as long as a condition is True.\n",
    "\n",
    "Example:"
   ]
  },
  {
   "cell_type": "code",
   "execution_count": 29,
   "id": "5c1673c5-c729-4917-9010-1781afaa0f84",
   "metadata": {},
   "outputs": [
    {
     "name": "stdout",
     "output_type": "stream",
     "text": [
      "1\n",
      "2\n",
      "3\n",
      "4\n",
      "5\n"
     ]
    }
   ],
   "source": [
    "count = 1\n",
    "while count <= 5:\n",
    "    print(count)\n",
    "    count += 1"
   ]
  },
  {
   "cell_type": "code",
   "execution_count": null,
   "id": "25862912-e832-43d7-930c-7d1319ac9b02",
   "metadata": {},
   "outputs": [],
   "source": []
  }
 ],
 "metadata": {
  "kernelspec": {
   "display_name": "Python 3 (ipykernel)",
   "language": "python",
   "name": "python3"
  },
  "language_info": {
   "codemirror_mode": {
    "name": "ipython",
    "version": 3
   },
   "file_extension": ".py",
   "mimetype": "text/x-python",
   "name": "python",
   "nbconvert_exporter": "python",
   "pygments_lexer": "ipython3",
   "version": "3.13.2"
  }
 },
 "nbformat": 4,
 "nbformat_minor": 5
}
